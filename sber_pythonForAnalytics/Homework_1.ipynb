{
 "cells": [
  {
   "cell_type": "markdown",
   "metadata": {
    "toc": true
   },
   "source": [
    "<h1>Table of Contents<span class=\"tocSkip\"></span></h1>\n",
    "<div class=\"toc\"><ul class=\"toc-item\"><li><span><a href=\"#-Homework-1-(Topics-1-4:-Data-Structures,-Indexing,-Cleaning-Data,-Math)\" data-toc-modified-id=\"-Homework-1-(Topics-1-4:-Data-Structures,-Indexing,-Cleaning-Data,-Math)-1\"><span class=\"toc-item-num\">1&nbsp;&nbsp;</span><center> Homework 1 (Topics 1-4: Data Structures, Indexing, Cleaning Data, Math)</center></a></span><ul class=\"toc-item\"><li><ul class=\"toc-item\"><li><ul class=\"toc-item\"><li><span><a href=\"#Task-1.\" data-toc-modified-id=\"Task-1.-1.0.0.1\"><span class=\"toc-item-num\">1.0.0.1&nbsp;&nbsp;</span>Task 1.</a></span></li><li><span><a href=\"#Варианты-ответов:\" data-toc-modified-id=\"Варианты-ответов:-1.0.0.2\"><span class=\"toc-item-num\">1.0.0.2&nbsp;&nbsp;</span>Варианты ответов:</a></span></li><li><span><a href=\"#Task-2.\" data-toc-modified-id=\"Task-2.-1.0.0.3\"><span class=\"toc-item-num\">1.0.0.3&nbsp;&nbsp;</span>Task 2.</a></span></li><li><span><a href=\"#Вопросы:\" data-toc-modified-id=\"Вопросы:-1.0.0.4\"><span class=\"toc-item-num\">1.0.0.4&nbsp;&nbsp;</span>Вопросы:</a></span></li><li><span><a href=\"#Task-3.\" data-toc-modified-id=\"Task-3.-1.0.0.5\"><span class=\"toc-item-num\">1.0.0.5&nbsp;&nbsp;</span>Task 3.</a></span></li><li><span><a href=\"#Выберите-все-верные-пункты:\" data-toc-modified-id=\"Выберите-все-верные-пункты:-1.0.0.6\"><span class=\"toc-item-num\">1.0.0.6&nbsp;&nbsp;</span>Выберите все верные пункты:</a></span></li><li><span><a href=\"#Task-4.\" data-toc-modified-id=\"Task-4.-1.0.0.7\"><span class=\"toc-item-num\">1.0.0.7&nbsp;&nbsp;</span>Task 4.</a></span></li><li><span><a href=\"#Пояснения:\" data-toc-modified-id=\"Пояснения:-1.0.0.8\"><span class=\"toc-item-num\">1.0.0.8&nbsp;&nbsp;</span>Пояснения:</a></span></li></ul></li><li><span><a href=\"#Информация-для-последующих-заданий\" data-toc-modified-id=\"Информация-для-последующих-заданий-1.0.1\"><span class=\"toc-item-num\">1.0.1&nbsp;&nbsp;</span>Информация для последующих заданий</a></span></li></ul></li><li><span><a href=\"#Описание-данных\" data-toc-modified-id=\"Описание-данных-1.1\"><span class=\"toc-item-num\">1.1&nbsp;&nbsp;</span>Описание данных</a></span><ul class=\"toc-item\"><li><span><a href=\"#Таблица-transactions.csv\" data-toc-modified-id=\"Таблица-transactions.csv-1.1.1\"><span class=\"toc-item-num\">1.1.1&nbsp;&nbsp;</span>Таблица <code>transactions.csv</code></a></span></li><li><span><a href=\"#Таблица-gender_train.csv\" data-toc-modified-id=\"Таблица-gender_train.csv-1.1.2\"><span class=\"toc-item-num\">1.1.2&nbsp;&nbsp;</span>Таблица <code>gender_train.csv</code></a></span></li><li><span><a href=\"#Таблица-tr_mcc_codes.csv\" data-toc-modified-id=\"Таблица-tr_mcc_codes.csv-1.1.3\"><span class=\"toc-item-num\">1.1.3&nbsp;&nbsp;</span>Таблица <code>tr_mcc_codes.csv</code></a></span></li><li><span><a href=\"#Таблица-tr_types.csv\" data-toc-modified-id=\"Таблица-tr_types.csv-1.1.4\"><span class=\"toc-item-num\">1.1.4&nbsp;&nbsp;</span>Таблица <code>tr_types.csv</code></a></span><ul class=\"toc-item\"><li><span><a href=\"#Task-5.\" data-toc-modified-id=\"Task-5.-1.1.4.1\"><span class=\"toc-item-num\">1.1.4.1&nbsp;&nbsp;</span>Task 5.</a></span></li><li><span><a href=\"#Task-6.\" data-toc-modified-id=\"Task-6.-1.1.4.2\"><span class=\"toc-item-num\">1.1.4.2&nbsp;&nbsp;</span>Task 6.</a></span></li><li><span><a href=\"#Выберите-все-верные-пункты:\" data-toc-modified-id=\"Выберите-все-верные-пункты:-1.1.4.3\"><span class=\"toc-item-num\">1.1.4.3&nbsp;&nbsp;</span>Выберите все верные пункты:</a></span></li><li><span><a href=\"#Task-7.\" data-toc-modified-id=\"Task-7.-1.1.4.4\"><span class=\"toc-item-num\">1.1.4.4&nbsp;&nbsp;</span>Task 7.</a></span></li><li><span><a href=\"#Выберите-все-верные-пункты:\" data-toc-modified-id=\"Выберите-все-верные-пункты:-1.1.4.5\"><span class=\"toc-item-num\">1.1.4.5&nbsp;&nbsp;</span>Выберите все верные пункты:</a></span></li><li><span><a href=\"#Task-8.\" data-toc-modified-id=\"Task-8.-1.1.4.6\"><span class=\"toc-item-num\">1.1.4.6&nbsp;&nbsp;</span>Task 8.</a></span></li></ul></li></ul></li></ul></li></ul></div>"
   ]
  },
  {
   "cell_type": "markdown",
   "metadata": {},
   "source": [
    "# <center> Homework 1 (Topics 1-4: Data Structures, Indexing, Cleaning Data, Math)"
   ]
  },
  {
   "cell_type": "code",
   "execution_count": 4,
   "metadata": {
    "ExecuteTime": {
     "end_time": "2020-04-23T10:16:05.965275Z",
     "start_time": "2020-04-23T10:16:05.312704Z"
    }
   },
   "outputs": [],
   "source": [
    "import pandas as pd\n",
    "import numpy as np"
   ]
  },
  {
   "cell_type": "markdown",
   "metadata": {},
   "source": [
    "#### Task 1. \n",
    "Задание:\n",
    "\n",
    "1. Создайте Series из последовательности 15 значений, равномерно разбивающих отрезок [0, 20] (воспользуйтесь функцией linspace)\n",
    "2. Определите отношение элементов полученной серии к их предыдущим элементам (\\*). \n",
    "3. В результате необходимо получить среднее полученного вектора, оставив в нём только те значения, которые не более чем 1.5 (\\**). \n",
    "\n",
    "Выберите из ответов тот, который максимально близок к полученному (c точки зрения абсолютной разницы).\n",
    "\n",
    "#### Варианты ответов:\n",
    "    - 1) 1.24\n",
    "    - 2) 1.18 \n",
    "    - 3) 0.71\n",
    "    - 4) 1.13\n",
    "\n",
    "\n",
    "##### Пояснения:\n",
    "(\\*) Если было бы необходимо найти последовательность из 3-х значений,  \n",
    "равномерно разбивающих отрезок [0,1], то это были бы значения [0, 0.5, 1]. \n",
    "\n",
    "(\\**) Если был бы дан список элементов a = [1,2,3,12], отношения элементов к предыдущим будут равны [NaN, 2, 1.5, 4].  \n",
    "А на последнем этапе в таком примере останется только [1.5] и среднее значение будет также 1.5."
   ]
  },
  {
   "cell_type": "code",
   "execution_count": 5,
   "metadata": {
    "ExecuteTime": {
     "end_time": "2020-04-23T10:13:26.017568Z",
     "start_time": "2020-04-23T10:13:26.014793Z"
    }
   },
   "outputs": [
    {
     "data": {
      "text/plain": [
       "1.181677812927813"
      ]
     },
     "execution_count": 5,
     "metadata": {},
     "output_type": "execute_result"
    }
   ],
   "source": [
    "### Type your code here\n",
    "s1 = pd.Series(data = np.linspace(0, 20, 15))\n",
    "s2 = s1.divide(s1.shift(1))\n",
    "s3 = s2[s2<=1.5].mean()\n",
    "s3"
   ]
  },
  {
   "cell_type": "markdown",
   "metadata": {},
   "source": [
    "#### Task 2. \n",
    "Выберите все верные ответы касательно следующих четырех Series:\n",
    "    - pd.Series('abcde'); (1) \n",
    "    - pd.Series(['abcde']); (2) \n",
    "    - pd.Series(list('abcde')); (3)\n",
    "    - pd.Series(\"abcde\"); (4)\n",
    "    \n",
    "##### Пояснения:\n",
    "(\\*)\n",
    "- функция list: в строке каждый символ - это отдельный элемент для list\n",
    "- квадратные скобки: в квадратных скобках списку передается множество элементов по отдельности через запятую\n",
    "\n",
    "\n",
    "#### Вопросы:\n",
    "    - 1) Серия (1) совпадает с серией (2), так как в каждом из случаев серия создаётся из списка строк\n",
    "    - 2) Серия (2) совпадает с серией (3), так как в каждом из случаев серия создаётся из списка символов \n",
    "    - 3) Серия (1) не совпадает с серией (4), так как в (4) используются двойные кавычки \"\" вместо одинарных '' "
   ]
  },
  {
   "cell_type": "code",
   "execution_count": 6,
   "metadata": {},
   "outputs": [
    {
     "name": "stdout",
     "output_type": "stream",
     "text": [
      "no\n",
      "0    abcde\n",
      "dtype: object\n",
      "0    abcde\n",
      "dtype: object\n",
      "0    a\n",
      "1    b\n",
      "2    c\n",
      "3    d\n",
      "4    e\n",
      "dtype: object\n",
      "0    abcde\n",
      "dtype: object\n",
      "Ответ 1\n"
     ]
    }
   ],
   "source": [
    "# Ответ 2.1\n",
    "df1 = pd.Series('abcde')\n",
    "df2 = pd.Series(['abcde'])\n",
    "df3 = pd.Series(list('abcde'))\n",
    "df4 = pd.Series(\"abcde\")\n",
    "\n",
    "if df1.all() == df3.all(): \n",
    "    print ('yes')\n",
    "else: \n",
    "    print('no')\n",
    "    print (df1)\n",
    "    print(df2)\n",
    "    print (df3)\n",
    "    print (df4)\n",
    "    \n",
    "print('Ответ 1')"
   ]
  },
  {
   "cell_type": "markdown",
   "metadata": {},
   "source": [
    "#### Task 3. \n",
    "\n",
    "По клиенту получены зашумленные данные (объект s типа Series) по его транзакциям. \n",
    "\n",
    "Для заданного ниже объекта s проделайте следующее:\n",
    "1. Создайте новый Series, значения которого совпадают со значениями s, а индексы - целочисленные значения от 2 до 12, не включая 12. \n",
    "2. Выберите из s элементы с индексами 3 и 5, после чего просуммируйте их, сохранив результат (1). \n",
    "3. Выберите из s только целочисленные элементы и вычислите их дисперсию (2). (\\*)\n",
    "\n",
    "Все полученные результаты округлите до 2-х знаков после запятой.\n",
    "\n",
    "#### Выберите все верные пункты:\n",
    "    - 1) Ответ (1) - 642.52\n",
    "    - 2) Ответ (1) - 91.78\n",
    "    - 3) Ответ (1) - не может быть определён\n",
    "    - 4) Ответ (2) - 57591.19\n",
    "    - 5) Ответ (2) - 210.12\n",
    "    - 6) Ответ (2) - не может быть определён\n",
    "\n",
    "##### Пояснения:\n",
    "(\\*) Целочисленные значения - значения, имеющие тип int.\n",
    "- Дисперсия рассчитывается с помощью функции из библиотеки numpy: np.var( , ddof=0) или встроенной в python функции: .var(ddof=1)"
   ]
  },
  {
   "cell_type": "code",
   "execution_count": 7,
   "metadata": {
    "ExecuteTime": {
     "end_time": "2020-04-23T10:17:18.795695Z",
     "start_time": "2020-04-23T10:17:18.791449Z"
    }
   },
   "outputs": [
    {
     "ename": "TypeError",
     "evalue": "unsupported operand type(s) for +: 'int' and 'str'",
     "output_type": "error",
     "traceback": [
      "\u001B[0;31m---------------------------------------------------------------------------\u001B[0m",
      "\u001B[0;31mTypeError\u001B[0m                                 Traceback (most recent call last)",
      "\u001B[0;32m<ipython-input-7-d4fdfd06f565>\u001B[0m in \u001B[0;36m<module>\u001B[0;34m\u001B[0m\n\u001B[1;32m      4\u001B[0m \u001B[0ms\u001B[0m\u001B[0;34m.\u001B[0m\u001B[0mindex\u001B[0m\u001B[0;34m=\u001B[0m\u001B[0;34m[\u001B[0m\u001B[0;36m2\u001B[0m\u001B[0;34m,\u001B[0m\u001B[0;36m3\u001B[0m\u001B[0;34m,\u001B[0m\u001B[0;36m4\u001B[0m\u001B[0;34m,\u001B[0m\u001B[0;36m5\u001B[0m\u001B[0;34m,\u001B[0m\u001B[0;36m6\u001B[0m\u001B[0;34m,\u001B[0m\u001B[0;36m7\u001B[0m\u001B[0;34m,\u001B[0m\u001B[0;36m8\u001B[0m\u001B[0;34m,\u001B[0m\u001B[0;36m9\u001B[0m\u001B[0;34m,\u001B[0m\u001B[0;36m10\u001B[0m\u001B[0;34m,\u001B[0m\u001B[0;36m11\u001B[0m\u001B[0;34m]\u001B[0m\u001B[0;34m\u001B[0m\u001B[0;34m\u001B[0m\u001B[0m\n\u001B[1;32m      5\u001B[0m \u001B[0ms\u001B[0m\u001B[0;34m.\u001B[0m\u001B[0mindex\u001B[0m \u001B[0;34m=\u001B[0m \u001B[0mnp\u001B[0m\u001B[0;34m.\u001B[0m\u001B[0mlinspace\u001B[0m\u001B[0;34m(\u001B[0m\u001B[0;36m2\u001B[0m\u001B[0;34m,\u001B[0m\u001B[0;36m11\u001B[0m\u001B[0;34m,\u001B[0m\u001B[0;36m10\u001B[0m\u001B[0;34m)\u001B[0m\u001B[0;34m\u001B[0m\u001B[0;34m\u001B[0m\u001B[0m\n\u001B[0;32m----> 6\u001B[0;31m \u001B[0ms1\u001B[0m \u001B[0;34m=\u001B[0m \u001B[0ms\u001B[0m\u001B[0;34m[\u001B[0m\u001B[0;36m3\u001B[0m\u001B[0;34m]\u001B[0m \u001B[0;34m+\u001B[0m \u001B[0ms\u001B[0m\u001B[0;34m[\u001B[0m\u001B[0;36m5\u001B[0m\u001B[0;34m]\u001B[0m\u001B[0;34m\u001B[0m\u001B[0;34m\u001B[0m\u001B[0m\n\u001B[0m\u001B[1;32m      7\u001B[0m \u001B[0ms1\u001B[0m\u001B[0;34m\u001B[0m\u001B[0;34m\u001B[0m\u001B[0m\n\u001B[1;32m      8\u001B[0m \u001B[0mprint\u001B[0m\u001B[0;34m(\u001B[0m\u001B[0;34m'Ответ (1) - не может быть определён'\u001B[0m\u001B[0;34m)\u001B[0m\u001B[0;34m\u001B[0m\u001B[0;34m\u001B[0m\u001B[0m\n",
      "\u001B[0;31mTypeError\u001B[0m: unsupported operand type(s) for +: 'int' and 'str'"
     ]
    }
   ],
   "source": [
    "s = pd.Series(data=['1', 2, 3.1, 'hi!', 5, -512, 12.42, 'sber', 10.10, 98], \n",
    "              index=range(6, 26, 2))\n",
    "### Type your code here\n",
    "s.index=[2,3,4,5,6,7,8,9,10,11]\n",
    "s.index = np.linspace(2,11,10)\n",
    "s1 = s[3] + s[5]\n",
    "s1 \n",
    "print('Ответ (1) - не может быть определён')"
   ]
  },
  {
   "cell_type": "code",
   "execution_count": 8,
   "metadata": {},
   "outputs": [
    {
     "data": {
      "text/plain": [
       "57591.1875"
      ]
     },
     "execution_count": 8,
     "metadata": {},
     "output_type": "execute_result"
    }
   ],
   "source": [
    "s2_ints = [s2_element for s2_element in s if type(s2_element) == int]\n",
    "np.var(s2_ints)\n",
    "# ответ 57591.1875"
   ]
  },
  {
   "cell_type": "markdown",
   "metadata": {},
   "source": [
    "#### Task 4. \n",
    "1. Сгенерируйте Series из 100 значений нормально распределённой СВ (np.random.normal с дефолтными параметрами - нулевым средним и единичной дисперсией).\n",
    "2. Возведите каждое значение серии в 3 степень, а значения индекса увеличьте в 3 раза. \n",
    "3. Ответьте на следующие вопросы через запятую (без пробелов) (\\*)\n",
    "    - 1) Выведите сумму элементов, строго меньших 2.6, имеющих нечётные значения индекса. \n",
    "    - 2) Выведите количество значений серии меньше нуля.\n",
    "\n",
    "#### Пояснения:\n",
    "(\\*) Если получились ответы 3, 4.32, то в форму необходимо внести их в виде \"3,4.32\". То есть вещественные числа необходимо разделять точками. Не забудьте про фиксированный seed (его менять не нужно)!\n",
    " - Определенное значение seed нужно, чтобы ответы у всех выполняющих\n",
    "это задание были одинаковые и их можно было проверить (так как генерируются\n",
    "одинаковые series).\n",
    " - Следует внимательнее использовать [ ] для выбора данных по нескольким условиям:\n",
    "либо выбирать данные последовательно, либо сразу по нескольким условиям,\n",
    "но через оператор &. Отличие оператора and от оператора &: and - выводит\n",
    "последнее проверенное значение, & - выводит пересечение значений.\n",
    "Пример: s[ _  &  _ ].sum() "
   ]
  },
  {
   "cell_type": "code",
   "execution_count": 9,
   "metadata": {
    "ExecuteTime": {
     "end_time": "2020-04-23T10:18:35.713300Z",
     "start_time": "2020-04-23T10:18:35.710616Z"
    }
   },
   "outputs": [
    {
     "data": {
      "text/plain": [
       "-15.150748101821666"
      ]
     },
     "execution_count": 9,
     "metadata": {},
     "output_type": "execute_result"
    }
   ],
   "source": [
    "# Ответ 4.3.1\n",
    "np.random.seed(242)\n",
    "### Type your code here\n",
    "s = pd.Series(data = np.random.normal(0, 1, 100))\n",
    "s\n",
    "s = s**3\n",
    "s.index *= 3\n",
    "s\n",
    "s_sum = s.loc[(s.index % 2 != 0) & (s < 2.6)].sum()\n",
    "s_sum\n",
    "# Ответ  -15.150748101821666"
   ]
  },
  {
   "cell_type": "code",
   "execution_count": 10,
   "metadata": {},
   "outputs": [
    {
     "data": {
      "text/plain": [
       "51"
      ]
     },
     "execution_count": 10,
     "metadata": {},
     "output_type": "execute_result"
    }
   ],
   "source": [
    "# Ответ 4.3.2\n",
    "s_less_zero = s[s<0].size\n",
    "s_less_zero\n",
    "# Ответ 51"
   ]
  },
  {
   "cell_type": "markdown",
   "metadata": {},
   "source": [
    "### Информация для последующих заданий\n",
    "- Для всех последующих заданий будем использовать обезличенные транзакционные банковские данные. Для этого считайте в переменные tr_mcc_codes, tr_types, transactions и gender_train из одноимённых таблиц из папки data. Для таблицы transactions используйте только первые n=1000000 строк. Обратите внимание на разделители внутри каждого из файлов - они могут различаться!"
   ]
  },
  {
   "cell_type": "code",
   "execution_count": 11,
   "metadata": {
    "ExecuteTime": {
     "end_time": "2020-04-23T10:19:13.080203Z",
     "start_time": "2020-04-23T10:19:13.077711Z"
    }
   },
   "outputs": [],
   "source": [
    "### Type your code here\n",
    "df_tr_mcc_codes = pd.read_csv('/Users/d.demchenko/Projects/sberUniver_PythonDataAnalasys/data/tr_mcc_codes.csv', sep=';')\n",
    "df_tr_types = pd.read_csv('/Users/d.demchenko/Projects/sberUniver_PythonDataAnalasys/data/tr_types.csv', sep=';')\n",
    "df_transactions = pd.read_csv('/Users/d.demchenko/Projects/sberUniver_PythonDataAnalasys/data/transactions.csv', sep=',')\n",
    "df_gender_train = pd.read_csv('/Users/d.demchenko/Projects/sberUniver_PythonDataAnalasys/data/gender_train.csv', sep=',')"
   ]
  },
  {
   "cell_type": "markdown",
   "metadata": {},
   "source": [
    "## Описание данных\n",
    "### Таблица ```transactions.csv```\n",
    "##### Описание\n",
    "Таблица содержит историю транзакций клиентов банка за один год и три месяца.\n",
    "\n",
    "##### Формат данных\n",
    "\n",
    "```\n",
    "customer_id,tr_datetime,mcc_code,tr_type,amount,term_id\n",
    "111111,15 01:40:52,1111,1000,-5224,111111\n",
    "111112,15 15:18:32,3333,2000,-100,11122233\n",
    "...\n",
    "```\n",
    "##### Описание полей\n",
    "\n",
    " - ```customer_id``` — идентификатор клиента;\n",
    " - ```tr_datetime``` — день и время совершения транзакции (дни нумеруются с начала данных);\n",
    " - ```mcc_code``` — mcc-код транзакции;\n",
    " - ```tr_type``` — тип транзакции;\n",
    " - ```amount``` — сумма транзакции в условных единицах со знаком; ```+``` — начисление средств клиенту (приходная транзакция), ```-``` — списание средств (расходная транзакция);\n",
    " - ```term_id``` — идентификатор терминала;\n",
    "\n",
    "\n",
    "### Таблица ```gender_train.csv```\n",
    "\n",
    "##### Описание\n",
    "Данная таблица содержит информацию по полу для части клиентов, для которых он известен. Для остальных клиентов пол неизвестен.\n",
    "\n",
    "##### Формат данных\n",
    "```\n",
    "customer_id,gender\n",
    "111111,0\n",
    "111112,1\n",
    "...\n",
    "```\n",
    "\n",
    "##### Описание полей\n",
    " - ```customer_id``` — идентификатор клиента;\n",
    " - ```gender``` — пол клиента;\n",
    "\n",
    "### Таблица ```tr_mcc_codes.csv```\n",
    "\n",
    "##### Описание\n",
    "Данная таблица содержит описание mcc-кодов транзакций.\n",
    "\n",
    "##### Формат данных\n",
    "```\n",
    "mcc_code;mcc_description\n",
    "1000;словесное описание mcc-кода 1000\n",
    "2000;словесное описание mcc-кода 2000\n",
    "...\n",
    "```\n",
    "\n",
    "##### Описание полей\n",
    " - ```mcc_code``` – mcc-код транзакции;\n",
    " - ```mcc_description``` — описание mcc-кода транзакции.\n",
    "\n",
    "### Таблица ```tr_types.csv```\n",
    "\n",
    "##### Описание\n",
    "Данная таблица содержит описание типов транзакций.\n",
    "\n",
    "##### Формат данных\n",
    "```\n",
    "tr_type;tr_description\n",
    "1000;словесное описание типа транзакции 1000\n",
    "2000;словесное описание типа транзакции 2000\n",
    "...\n",
    "```\n",
    "\n",
    "##### Описание полей\n",
    " - ```tr_type``` – тип транзакции;\n",
    " - ```tr_description``` — описание типа транзакции;"
   ]
  },
  {
   "cell_type": "markdown",
   "metadata": {},
   "source": [
    "#### Task 5.\n",
    "1. В tr_types выберите произвольные 100 строк с помощью метода sample (указав при этом random_seed равный 242)\n",
    "2. В полученной на предыдущем этапе подвыборке найдите долю наблюдений (стобец tr_description), в которой содержится подстрока 'плата' (в любом регистре). (\\*)\n",
    "\n",
    "Выведите ответ в виде вещественного числа, округлённого до двух знаков после запятой, отделив дробную часть точкой в формате \"123.45\"\n",
    "\n",
    "##### Пояснения:\n",
    "(\\*) Строки \"ПлатА за аренду\", \"ПлатАза аренду\", \"ПЛАТА\" удовлетворяют условию, так как будучи переведёнными в нижний регистр содержат подстроку \"плата\"."
   ]
  },
  {
   "cell_type": "code",
   "execution_count": 12,
   "metadata": {
    "ExecuteTime": {
     "end_time": "2020-04-23T10:19:45.872766Z",
     "start_time": "2020-04-23T10:19:45.870317Z"
    },
    "scrolled": true
   },
   "outputs": [
    {
     "name": "stdout",
     "output_type": "stream",
     "text": [
      "0.26\n"
     ]
    }
   ],
   "source": [
    "### Type your code here\n",
    "np.random.seed(242)\n",
    "df_tr_types_sample = df_tr_types.sample(100)\n",
    "df_tr_types_sample\n",
    "d_plata = df_tr_types_sample.loc[df_tr_types_sample.tr_description.str.lower().str.contains('плата')].count()[0] / len(df_tr_types_sample)\n",
    "print(f\"{d_plata:.2F}\")\n",
    "# Ответ 0.26\n"
   ]
  },
  {
   "cell_type": "markdown",
   "metadata": {},
   "source": [
    "#### Task 6. \n",
    "1. Для поля tr_type датафрейма transactions посчитайте частоту встречаемости всех типов транзакций tr_type в transactions.\n",
    "2. Из перечисленных вариантов выберите те, которые попали в топ-5 транзакций по частоте встречаемости.\n",
    "\n",
    "#### Выберите все верные пункты:\n",
    "    - 1) Выдача наличных в АТМ Сбербанк России\n",
    "    - 2) Комиссия за обслуживание ссудного счета\n",
    "    - 3) Списание по требованию\t\n",
    "    - 4) Оплата услуги. Банкоматы СБ РФ\n",
    "    - 5) Погашение кредита (в пределах одного филиала)\n",
    "    - 6) Покупка. POS ТУ СБ РФ"
   ]
  },
  {
   "cell_type": "code",
   "execution_count": null,
   "metadata": {
    "ExecuteTime": {
     "end_time": "2020-04-23T10:20:31.273965Z",
     "start_time": "2020-04-23T10:20:31.271483Z"
    }
   },
   "outputs": [],
   "source": [
    "### Type your code here\n",
    "# df_tr_types.columns\n",
    "df_trans_groups = df_transactions.groupby(['tr_type']).count()\n",
    "df_trans_groups['sum_all_fields'] = df_trans_groups.sum(axis=1)\n",
    "df_trans_groups.sort_values('sum_all_fields', ascending=False)\n",
    "df_tr_types.loc[df_tr_types['tr_type']==1010]\n",
    "# print(\"Ответ 1010\tПокупка. POS ТУ СБ РФ\")"
   ]
  },
  {
   "cell_type": "markdown",
   "metadata": {},
   "source": [
    "#### Task 7.\n",
    "1. В датафрейме transactions задайте столбец  customer_id в качестве индекса.\n",
    "2. Выделите клиента с максимальной суммой транзакции (то есть с максимальным приходом на карту). (\\*)\n",
    "3. Найдите у него наиболее часто встречающийся модуль суммы приходов/расходов. (\\**)\n",
    "\n",
    "\n",
    "#### Выберите все верные пункты:\n",
    "    - 1) 1122957.89\n",
    "    - 2) 15721.41\n",
    "    - 3) 22459.16\n",
    "    - 4) 13475494.63\n",
    "    - 5) 107407.78\n",
    "    - 6) 65019.26\n",
    "\n",
    "##### Пояснения:\n",
    "(\\*) Если у клиента были транзакции [-10000, 10, 0, -10], то максимумом будет являться значение 10. <br>\n",
    "(\\**) Если у клиента были транзакции [-10000, 10, 0, -10], то наиболее встречающийся модуль суммы транзакций равен 10, и встретился он 2 раза."
   ]
  },
  {
   "cell_type": "code",
   "execution_count": 15,
   "metadata": {
    "ExecuteTime": {
     "end_time": "2020-04-23T10:20:53.265495Z",
     "start_time": "2020-04-23T10:20:53.263208Z"
    },
    "scrolled": true
   },
   "outputs": [],
   "source": [
    "### Type your code here\n",
    "df_transactions.set_index('customer_id', inplace=True)\n",
    "# df_trans_groups_max = df_transactions.groupby(['customer_id']).agg({'amount':'max'})\n",
    "# df_trans_groups_max.sort_values('amount', ascending=False)\n",
    "# df_transactions_max\n",
    "# rich_client = 26782922\n",
    "# df_transactions.loc[df_transactions['customer_id']==26782922]\n",
    "df_rich = df_transactions.loc[[26782922]]\n",
    "# df_transactions.sort_values('customer_id')"
   ]
  },
  {
   "cell_type": "code",
   "execution_count": 16,
   "metadata": {},
   "outputs": [
    {
     "data": {
      "text/html": [
       "<div>\n",
       "<style scoped>\n",
       "    .dataframe tbody tr th:only-of-type {\n",
       "        vertical-align: middle;\n",
       "    }\n",
       "\n",
       "    .dataframe tbody tr th {\n",
       "        vertical-align: top;\n",
       "    }\n",
       "\n",
       "    .dataframe thead th {\n",
       "        text-align: right;\n",
       "    }\n",
       "</style>\n",
       "<table border=\"1\" class=\"dataframe\">\n",
       "  <thead>\n",
       "    <tr style=\"text-align: right;\">\n",
       "      <th></th>\n",
       "      <th>tr_datetime</th>\n",
       "      <th>mcc_code</th>\n",
       "      <th>tr_type</th>\n",
       "      <th>amount</th>\n",
       "      <th>term_id</th>\n",
       "      <th>abs_amount</th>\n",
       "    </tr>\n",
       "  </thead>\n",
       "  <tbody>\n",
       "    <tr>\n",
       "      <th>0</th>\n",
       "      <td>76 00:00:00</td>\n",
       "      <td>4900</td>\n",
       "      <td>1100</td>\n",
       "      <td>-22459.16</td>\n",
       "      <td>04170949</td>\n",
       "      <td>22459.16</td>\n",
       "    </tr>\n",
       "  </tbody>\n",
       "</table>\n",
       "</div>"
      ],
      "text/plain": [
       "   tr_datetime  mcc_code  tr_type    amount   term_id  abs_amount\n",
       "0  76 00:00:00      4900     1100 -22459.16  04170949    22459.16"
      ]
     },
     "execution_count": 16,
     "metadata": {},
     "output_type": "execute_result"
    }
   ],
   "source": [
    "df_rich['abs_amount']= df_rich['amount'].abs()\n",
    "df_rich.mode()\n",
    "# 22459.16"
   ]
  },
  {
   "cell_type": "markdown",
   "metadata": {},
   "source": [
    "#### Task 8.\n",
    "1. Найдите максимальную разницу между медианами суммы транзакций, посчитанными при заданных ниже условиях по полю amount из таблицы transactions (\\*):\n",
    "    - Медиана суммы транзакций\n",
    "    - Медиана суммы транзакций по тем строкам, которые ни в одном из своих столбцов не содержат пустые значения\n",
    "    - Медиана суммы транзакций по строкам, отсортированным по полю amount в порядке возрастания, и из которых удалены дублирующиеся по столбцам [mcc_code, tr_type] строки, причём при удалении соответстующих дублей остаются только последние из дублирующихся строк (keep='last')\n",
    "\n",
    "Выведите ответ в виде вещественного числа, округлённого до двух знаков после запятой, отделив дробную часть точкой в формате \"123.45\"\n",
    "\n",
    "##### Пояснения:\n",
    "(\\*) Для вычисления максимальной разницы между значениями списка можно использовать функцию np.ptp  \n",
    "(\\**) Если в результате получились значения [1,3,5], то макимальная разница между ними 4 == 5-1."
   ]
  },
  {
   "cell_type": "code",
   "execution_count": 30,
   "metadata": {
    "ExecuteTime": {
     "end_time": "2020-04-23T10:21:36.645933Z",
     "start_time": "2020-04-23T10:21:36.643612Z"
    },
    "scrolled": true
   },
   "outputs": [
    {
     "data": {
      "text/plain": [
       "-4856002.780000006"
      ]
     },
     "execution_count": 30,
     "metadata": {},
     "output_type": "execute_result"
    }
   ],
   "source": [
    "### Type your code here\n",
    "# df_transactions.columns\n",
    "# df_transactions['medians'] = df_transactions.median(axis=1)\n",
    "df_transactions_sum = df_transactions.groupby(['customer_id']).sum('amount')\n",
    "df_transactions_sum['amount'].median()"
   ]
  },
  {
   "cell_type": "code",
   "execution_count": 45,
   "metadata": {},
   "outputs": [
    {
     "data": {
      "text/html": [
       "<div>\n",
       "<style scoped>\n",
       "    .dataframe tbody tr th:only-of-type {\n",
       "        vertical-align: middle;\n",
       "    }\n",
       "\n",
       "    .dataframe tbody tr th {\n",
       "        vertical-align: top;\n",
       "    }\n",
       "\n",
       "    .dataframe thead th {\n",
       "        text-align: right;\n",
       "    }\n",
       "</style>\n",
       "<table border=\"1\" class=\"dataframe\">\n",
       "  <thead>\n",
       "    <tr style=\"text-align: right;\">\n",
       "      <th></th>\n",
       "      <th>tr_datetime</th>\n",
       "      <th>mcc_code</th>\n",
       "      <th>tr_type</th>\n",
       "      <th>amount</th>\n",
       "      <th>term_id</th>\n",
       "      <th>medians</th>\n",
       "    </tr>\n",
       "    <tr>\n",
       "      <th>customer_id</th>\n",
       "      <th></th>\n",
       "      <th></th>\n",
       "      <th></th>\n",
       "      <th></th>\n",
       "      <th></th>\n",
       "      <th></th>\n",
       "    </tr>\n",
       "  </thead>\n",
       "  <tbody>\n",
       "    <tr>\n",
       "      <th>39026145</th>\n",
       "      <td>0 10:23:26</td>\n",
       "      <td>4814</td>\n",
       "      <td>1030</td>\n",
       "      <td>-2245.92</td>\n",
       "      <td>NaN</td>\n",
       "      <td>1030.0</td>\n",
       "    </tr>\n",
       "    <tr>\n",
       "      <th>39026145</th>\n",
       "      <td>1 10:19:29</td>\n",
       "      <td>6011</td>\n",
       "      <td>7010</td>\n",
       "      <td>56147.89</td>\n",
       "      <td>NaN</td>\n",
       "      <td>7010.0</td>\n",
       "    </tr>\n",
       "    <tr>\n",
       "      <th>39026145</th>\n",
       "      <td>1 10:20:56</td>\n",
       "      <td>4829</td>\n",
       "      <td>2330</td>\n",
       "      <td>-56147.89</td>\n",
       "      <td>NaN</td>\n",
       "      <td>2330.0</td>\n",
       "    </tr>\n",
       "    <tr>\n",
       "      <th>39026145</th>\n",
       "      <td>1 10:39:54</td>\n",
       "      <td>5499</td>\n",
       "      <td>1010</td>\n",
       "      <td>-1392.47</td>\n",
       "      <td>NaN</td>\n",
       "      <td>1010.0</td>\n",
       "    </tr>\n",
       "    <tr>\n",
       "      <th>39026145</th>\n",
       "      <td>2 15:33:42</td>\n",
       "      <td>5499</td>\n",
       "      <td>1010</td>\n",
       "      <td>-920.83</td>\n",
       "      <td>NaN</td>\n",
       "      <td>1010.0</td>\n",
       "    </tr>\n",
       "    <tr>\n",
       "      <th>...</th>\n",
       "      <td>...</td>\n",
       "      <td>...</td>\n",
       "      <td>...</td>\n",
       "      <td>...</td>\n",
       "      <td>...</td>\n",
       "      <td>...</td>\n",
       "    </tr>\n",
       "    <tr>\n",
       "      <th>61870738</th>\n",
       "      <td>453 16:03:02</td>\n",
       "      <td>5499</td>\n",
       "      <td>1010</td>\n",
       "      <td>-5176.84</td>\n",
       "      <td>10217113</td>\n",
       "      <td>1010.0</td>\n",
       "    </tr>\n",
       "    <tr>\n",
       "      <th>61870738</th>\n",
       "      <td>454 10:54:60</td>\n",
       "      <td>5411</td>\n",
       "      <td>1010</td>\n",
       "      <td>-1652.77</td>\n",
       "      <td>022915</td>\n",
       "      <td>1010.0</td>\n",
       "    </tr>\n",
       "    <tr>\n",
       "      <th>61870738</th>\n",
       "      <td>454 14:23:59</td>\n",
       "      <td>5499</td>\n",
       "      <td>1010</td>\n",
       "      <td>-4687.23</td>\n",
       "      <td>10217113</td>\n",
       "      <td>1010.0</td>\n",
       "    </tr>\n",
       "    <tr>\n",
       "      <th>61870738</th>\n",
       "      <td>454 16:11:53</td>\n",
       "      <td>5541</td>\n",
       "      <td>1110</td>\n",
       "      <td>-4491.83</td>\n",
       "      <td>RU570124</td>\n",
       "      <td>1110.0</td>\n",
       "    </tr>\n",
       "    <tr>\n",
       "      <th>61870738</th>\n",
       "      <td>454 18:06:30</td>\n",
       "      <td>6011</td>\n",
       "      <td>7010</td>\n",
       "      <td>408756.67</td>\n",
       "      <td>372701</td>\n",
       "      <td>7010.0</td>\n",
       "    </tr>\n",
       "  </tbody>\n",
       "</table>\n",
       "<p>6849346 rows × 6 columns</p>\n",
       "</div>"
      ],
      "text/plain": [
       "              tr_datetime  mcc_code  tr_type     amount   term_id  medians\n",
       "customer_id                                                               \n",
       "39026145       0 10:23:26      4814     1030   -2245.92       NaN   1030.0\n",
       "39026145       1 10:19:29      6011     7010   56147.89       NaN   7010.0\n",
       "39026145       1 10:20:56      4829     2330  -56147.89       NaN   2330.0\n",
       "39026145       1 10:39:54      5499     1010   -1392.47       NaN   1010.0\n",
       "39026145       2 15:33:42      5499     1010    -920.83       NaN   1010.0\n",
       "...                   ...       ...      ...        ...       ...      ...\n",
       "61870738     453 16:03:02      5499     1010   -5176.84  10217113   1010.0\n",
       "61870738     454 10:54:60      5411     1010   -1652.77    022915   1010.0\n",
       "61870738     454 14:23:59      5499     1010   -4687.23  10217113   1010.0\n",
       "61870738     454 16:11:53      5541     1110   -4491.83  RU570124   1110.0\n",
       "61870738     454 18:06:30      6011     7010  408756.67    372701   7010.0\n",
       "\n",
       "[6849346 rows x 6 columns]"
      ]
     },
     "execution_count": 45,
     "metadata": {},
     "output_type": "execute_result"
    }
   ],
   "source": [
    "df_transactions"
   ]
  },
  {
   "cell_type": "code",
   "execution_count": 42,
   "metadata": {},
   "outputs": [
    {
     "data": {
      "text/plain": [
       "22468212.485"
      ]
     },
     "execution_count": 42,
     "metadata": {},
     "output_type": "execute_result"
    }
   ],
   "source": [
    "df_transactions_sum = df_transactions.groupby(['customer_id']).median('amount')\n",
    "# df_transactions_sum['amount'].median()\n",
    "# df_transactions_sum.sum('df_transactions_sum['medians'])\n",
    "df_transactions_sum['medians'].sum()"
   ]
  },
  {
   "cell_type": "code",
   "execution_count": 43,
   "metadata": {},
   "outputs": [
    {
     "data": {
      "text/plain": [
       "22468212.485"
      ]
     },
     "execution_count": 43,
     "metadata": {},
     "output_type": "execute_result"
    }
   ],
   "source": [
    "df_transactions_sum_dropna = df_transactions.dropna(how='all')\n",
    "df_transactions_sum_dropna = df_transactions.groupby(['customer_id']).median('amount')\n",
    "df_transactions_sum_dropna['medians'].sum()"
   ]
  },
  {
   "cell_type": "code",
   "execution_count": null,
   "metadata": {},
   "outputs": [],
   "source": []
  },
  {
   "cell_type": "code",
   "execution_count": null,
   "metadata": {},
   "outputs": [],
   "source": []
  }
 ],
 "metadata": {
  "hide_input": false,
  "kernelspec": {
   "display_name": "Python 3",
   "language": "python",
   "name": "python3"
  },
  "language_info": {
   "codemirror_mode": {
    "name": "ipython",
    "version": 3
   },
   "file_extension": ".py",
   "mimetype": "text/x-python",
   "name": "python",
   "nbconvert_exporter": "python",
   "pygments_lexer": "ipython3",
   "version": "3.8.5"
  },
  "toc": {
   "base_numbering": 1,
   "nav_menu": {},
   "number_sections": true,
   "sideBar": true,
   "skip_h1_title": false,
   "title_cell": "Table of Contents",
   "title_sidebar": "Contents",
   "toc_cell": true,
   "toc_position": {},
   "toc_section_display": true,
   "toc_window_display": false
  },
  "varInspector": {
   "cols": {
    "lenName": 16,
    "lenType": 16,
    "lenVar": 40
   },
   "kernels_config": {
    "python": {
     "delete_cmd_postfix": "",
     "delete_cmd_prefix": "del ",
     "library": "var_list.py",
     "varRefreshCmd": "print(var_dic_list())"
    },
    "r": {
     "delete_cmd_postfix": ") ",
     "delete_cmd_prefix": "rm(",
     "library": "var_list.r",
     "varRefreshCmd": "cat(var_dic_list()) "
    }
   },
   "types_to_exclude": [
    "module",
    "function",
    "builtin_function_or_method",
    "instance",
    "_Feature"
   ],
   "window_display": false
  }
 },
 "nbformat": 4,
 "nbformat_minor": 2
}