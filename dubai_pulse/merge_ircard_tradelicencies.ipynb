{
 "cells": [
  {
   "cell_type": "code",
   "execution_count": 1,
   "metadata": {
    "collapsed": true
   },
   "outputs": [],
   "source": [
    "import pandas as pd\n",
    "import numpy as np\n",
    "import time\n",
    "from datetime import timedelta\n",
    "from decouple import config\n",
    "import os"
   ]
  },
  {
   "cell_type": "code",
   "execution_count": 2,
   "outputs": [],
   "source": [
    "pd.set_option('display.max_columns', None)\n",
    "pd.set_option('display.max_rows',1000)\n",
    "pd.set_option('display.float_format', lambda x: '%.f' % x)"
   ],
   "metadata": {
    "collapsed": false,
    "pycharm": {
     "name": "#%%\n"
    }
   }
  },
  {
   "cell_type": "code",
   "execution_count": 18,
   "outputs": [],
   "source": [
    "df_lic_master = pd.read_csv('data/License_Master_ed.csv', sep=';')"
   ],
   "metadata": {
    "collapsed": false,
    "pycharm": {
     "name": "#%%\n"
    }
   }
  },
  {
   "cell_type": "code",
   "execution_count": 19,
   "outputs": [
    {
     "data": {
      "text/plain": "        license_number  issue_date expiry_date cancel_date  \\\n0              1000029  03/11/2021  02/11/2022         NaN   \n1              1000066  04/11/2021  03/11/2022         NaN   \n2              1000098  03/11/2021  02/11/2022         NaN   \n3              1000136  03/11/2021  02/11/2022         NaN   \n4               100021  04/06/1978  22/01/2022         NaN   \n...                ...         ...         ...         ...   \n538466          991630  11/10/2021  09/10/2022         NaN   \n538467          991830  11/10/2021  10/10/2022         NaN   \n538468          992630  14/10/2021  13/10/2022         NaN   \n538469          992830  13/10/2021  12/10/2022         NaN   \n538470          993230  14/10/2021  13/10/2022         NaN   \n\n       license_status_desc_en license_category_desc_en  \n0                      Active             Professional  \n1                      Active               Commercial  \n2                      Active             Professional  \n3                      Active               Commercial  \n4           Under Transaction             Professional  \n...                       ...                      ...  \n538466                 Active             Professional  \n538467                 Active             Professional  \n538468                 Active             Professional  \n538469                 Active             Professional  \n538470                 Active               Commercial  \n\n[538471 rows x 6 columns]",
      "text/html": "<div>\n<style scoped>\n    .dataframe tbody tr th:only-of-type {\n        vertical-align: middle;\n    }\n\n    .dataframe tbody tr th {\n        vertical-align: top;\n    }\n\n    .dataframe thead th {\n        text-align: right;\n    }\n</style>\n<table border=\"1\" class=\"dataframe\">\n  <thead>\n    <tr style=\"text-align: right;\">\n      <th></th>\n      <th>license_number</th>\n      <th>issue_date</th>\n      <th>expiry_date</th>\n      <th>cancel_date</th>\n      <th>license_status_desc_en</th>\n      <th>license_category_desc_en</th>\n    </tr>\n  </thead>\n  <tbody>\n    <tr>\n      <th>0</th>\n      <td>1000029</td>\n      <td>03/11/2021</td>\n      <td>02/11/2022</td>\n      <td>NaN</td>\n      <td>Active</td>\n      <td>Professional</td>\n    </tr>\n    <tr>\n      <th>1</th>\n      <td>1000066</td>\n      <td>04/11/2021</td>\n      <td>03/11/2022</td>\n      <td>NaN</td>\n      <td>Active</td>\n      <td>Commercial</td>\n    </tr>\n    <tr>\n      <th>2</th>\n      <td>1000098</td>\n      <td>03/11/2021</td>\n      <td>02/11/2022</td>\n      <td>NaN</td>\n      <td>Active</td>\n      <td>Professional</td>\n    </tr>\n    <tr>\n      <th>3</th>\n      <td>1000136</td>\n      <td>03/11/2021</td>\n      <td>02/11/2022</td>\n      <td>NaN</td>\n      <td>Active</td>\n      <td>Commercial</td>\n    </tr>\n    <tr>\n      <th>4</th>\n      <td>100021</td>\n      <td>04/06/1978</td>\n      <td>22/01/2022</td>\n      <td>NaN</td>\n      <td>Under Transaction</td>\n      <td>Professional</td>\n    </tr>\n    <tr>\n      <th>...</th>\n      <td>...</td>\n      <td>...</td>\n      <td>...</td>\n      <td>...</td>\n      <td>...</td>\n      <td>...</td>\n    </tr>\n    <tr>\n      <th>538466</th>\n      <td>991630</td>\n      <td>11/10/2021</td>\n      <td>09/10/2022</td>\n      <td>NaN</td>\n      <td>Active</td>\n      <td>Professional</td>\n    </tr>\n    <tr>\n      <th>538467</th>\n      <td>991830</td>\n      <td>11/10/2021</td>\n      <td>10/10/2022</td>\n      <td>NaN</td>\n      <td>Active</td>\n      <td>Professional</td>\n    </tr>\n    <tr>\n      <th>538468</th>\n      <td>992630</td>\n      <td>14/10/2021</td>\n      <td>13/10/2022</td>\n      <td>NaN</td>\n      <td>Active</td>\n      <td>Professional</td>\n    </tr>\n    <tr>\n      <th>538469</th>\n      <td>992830</td>\n      <td>13/10/2021</td>\n      <td>12/10/2022</td>\n      <td>NaN</td>\n      <td>Active</td>\n      <td>Professional</td>\n    </tr>\n    <tr>\n      <th>538470</th>\n      <td>993230</td>\n      <td>14/10/2021</td>\n      <td>13/10/2022</td>\n      <td>NaN</td>\n      <td>Active</td>\n      <td>Commercial</td>\n    </tr>\n  </tbody>\n</table>\n<p>538471 rows × 6 columns</p>\n</div>"
     },
     "execution_count": 19,
     "metadata": {},
     "output_type": "execute_result"
    }
   ],
   "source": [
    "df_lic_master"
   ],
   "metadata": {
    "collapsed": false,
    "pycharm": {
     "name": "#%%\n"
    }
   }
  },
  {
   "cell_type": "code",
   "execution_count": 13,
   "outputs": [],
   "source": [
    "df_cards_w_lic = pd.read_csv('data/dubai_trade_licencies_all.csv', sep= ',')"
   ],
   "metadata": {
    "collapsed": false,
    "pycharm": {
     "name": "#%%\n"
    }
   }
  },
  {
   "cell_type": "code",
   "execution_count": 20,
   "outputs": [
    {
     "data": {
      "text/plain": "                      id  source_id          stable_id  \\\n0      70000001006418103          1  70000001006418103   \n1      70000001034259381          1  70000001034259381   \n2      70000001040970652          1  70000001040970652   \n3      70000001041165521          1  70000001041165521   \n4      70000001033291710          1  70000001033291710   \n...                  ...        ...                ...   \n69639  70000001034257916          1  70000001034257916   \n69640  70000001038139044          1  70000001038139044   \n69641  70000001036144859          1  70000001036144859   \n69642  70000001033378867          1  70000001033378867   \n69643  70000001047146617          1  70000001047146617   \n\n                                                    name            firm_id  \\\n0                                    Jubily, supermarket  70000001006418104   \n1                          PMG Overseas Trading, company  70000001034259380   \n2             Wardat Al Rabea Ladies Gowns Tailoring LLC  70000001040970651   \n3                              Al Themar, driving school  70000001041165520   \n4                                   Safeera, supermarket  70000001040947562   \n...                                                  ...                ...   \n69639                           Suhani International FZC  70000001034257915   \n69640                      Shabab Al Khatam, gents salon  70000001038139043   \n69641                Abdullatif Bastaki Meat Trading LLC  70000001036144858   \n69642  Khalid Saif Electrical & Plumbing Works, servi...  70000001033378866   \n69643  Al Remal Al Fadhia Plastic Products, trading c...  70000001047146616   \n\n                                               firm_name  branch_id  \\\n0                                    Jubily, supermarket         99   \n1                          PMG Overseas Trading, company         99   \n2             Wardat Al Rabea Ladies Gowns Tailoring LLC         99   \n3                              Al Themar, driving school         99   \n4                                   Safeera, supermarket         99   \n...                                                  ...        ...   \n69639                           Suhani International FZC         99   \n69640                      Shabab Al Khatam, gents salon         99   \n69641                Abdullatif Bastaki Meat Trading LLC         99   \n69642  Khalid Saif Electrical & Plumbing Works, servi...         99   \n69643  Al Remal Al Fadhia Plastic Products, trading c...         99   \n\n      tradelicense     phone  \n0         590561.0   3401477  \n1          24047.0 561961331  \n2          79043.0 555684918  \n3          50862.0 506971326  \n4            697.0   7667275  \n...            ...       ...  \n69639        22407 559398326  \n69640   CN-1019937 504449440  \n69641       627392   3316961  \n69642         7227 508669266  \n69643       513027 504563790  \n\n[69644 rows x 9 columns]",
      "text/html": "<div>\n<style scoped>\n    .dataframe tbody tr th:only-of-type {\n        vertical-align: middle;\n    }\n\n    .dataframe tbody tr th {\n        vertical-align: top;\n    }\n\n    .dataframe thead th {\n        text-align: right;\n    }\n</style>\n<table border=\"1\" class=\"dataframe\">\n  <thead>\n    <tr style=\"text-align: right;\">\n      <th></th>\n      <th>id</th>\n      <th>source_id</th>\n      <th>stable_id</th>\n      <th>name</th>\n      <th>firm_id</th>\n      <th>firm_name</th>\n      <th>branch_id</th>\n      <th>tradelicense</th>\n      <th>phone</th>\n    </tr>\n  </thead>\n  <tbody>\n    <tr>\n      <th>0</th>\n      <td>70000001006418103</td>\n      <td>1</td>\n      <td>70000001006418103</td>\n      <td>Jubily, supermarket</td>\n      <td>70000001006418104</td>\n      <td>Jubily, supermarket</td>\n      <td>99</td>\n      <td>590561.0</td>\n      <td>3401477</td>\n    </tr>\n    <tr>\n      <th>1</th>\n      <td>70000001034259381</td>\n      <td>1</td>\n      <td>70000001034259381</td>\n      <td>PMG Overseas Trading, company</td>\n      <td>70000001034259380</td>\n      <td>PMG Overseas Trading, company</td>\n      <td>99</td>\n      <td>24047.0</td>\n      <td>561961331</td>\n    </tr>\n    <tr>\n      <th>2</th>\n      <td>70000001040970652</td>\n      <td>1</td>\n      <td>70000001040970652</td>\n      <td>Wardat Al Rabea Ladies Gowns Tailoring LLC</td>\n      <td>70000001040970651</td>\n      <td>Wardat Al Rabea Ladies Gowns Tailoring LLC</td>\n      <td>99</td>\n      <td>79043.0</td>\n      <td>555684918</td>\n    </tr>\n    <tr>\n      <th>3</th>\n      <td>70000001041165521</td>\n      <td>1</td>\n      <td>70000001041165521</td>\n      <td>Al Themar, driving school</td>\n      <td>70000001041165520</td>\n      <td>Al Themar, driving school</td>\n      <td>99</td>\n      <td>50862.0</td>\n      <td>506971326</td>\n    </tr>\n    <tr>\n      <th>4</th>\n      <td>70000001033291710</td>\n      <td>1</td>\n      <td>70000001033291710</td>\n      <td>Safeera, supermarket</td>\n      <td>70000001040947562</td>\n      <td>Safeera, supermarket</td>\n      <td>99</td>\n      <td>697.0</td>\n      <td>7667275</td>\n    </tr>\n    <tr>\n      <th>...</th>\n      <td>...</td>\n      <td>...</td>\n      <td>...</td>\n      <td>...</td>\n      <td>...</td>\n      <td>...</td>\n      <td>...</td>\n      <td>...</td>\n      <td>...</td>\n    </tr>\n    <tr>\n      <th>69639</th>\n      <td>70000001034257916</td>\n      <td>1</td>\n      <td>70000001034257916</td>\n      <td>Suhani International FZC</td>\n      <td>70000001034257915</td>\n      <td>Suhani International FZC</td>\n      <td>99</td>\n      <td>22407</td>\n      <td>559398326</td>\n    </tr>\n    <tr>\n      <th>69640</th>\n      <td>70000001038139044</td>\n      <td>1</td>\n      <td>70000001038139044</td>\n      <td>Shabab Al Khatam, gents salon</td>\n      <td>70000001038139043</td>\n      <td>Shabab Al Khatam, gents salon</td>\n      <td>99</td>\n      <td>CN-1019937</td>\n      <td>504449440</td>\n    </tr>\n    <tr>\n      <th>69641</th>\n      <td>70000001036144859</td>\n      <td>1</td>\n      <td>70000001036144859</td>\n      <td>Abdullatif Bastaki Meat Trading LLC</td>\n      <td>70000001036144858</td>\n      <td>Abdullatif Bastaki Meat Trading LLC</td>\n      <td>99</td>\n      <td>627392</td>\n      <td>3316961</td>\n    </tr>\n    <tr>\n      <th>69642</th>\n      <td>70000001033378867</td>\n      <td>1</td>\n      <td>70000001033378867</td>\n      <td>Khalid Saif Electrical &amp; Plumbing Works, servi...</td>\n      <td>70000001033378866</td>\n      <td>Khalid Saif Electrical &amp; Plumbing Works, servi...</td>\n      <td>99</td>\n      <td>7227</td>\n      <td>508669266</td>\n    </tr>\n    <tr>\n      <th>69643</th>\n      <td>70000001047146617</td>\n      <td>1</td>\n      <td>70000001047146617</td>\n      <td>Al Remal Al Fadhia Plastic Products, trading c...</td>\n      <td>70000001047146616</td>\n      <td>Al Remal Al Fadhia Plastic Products, trading c...</td>\n      <td>99</td>\n      <td>513027</td>\n      <td>504563790</td>\n    </tr>\n  </tbody>\n</table>\n<p>69644 rows × 9 columns</p>\n</div>"
     },
     "execution_count": 20,
     "metadata": {},
     "output_type": "execute_result"
    }
   ],
   "source": [
    "df_cards_w_lic"
   ],
   "metadata": {
    "collapsed": false,
    "pycharm": {
     "name": "#%%\n"
    }
   }
  },
  {
   "cell_type": "code",
   "execution_count": 21,
   "outputs": [
    {
     "name": "stderr",
     "output_type": "stream",
     "text": [
      "/var/folders/5b/cfgbcxjj0n30b2ljslhwkz9mndjsxd/T/ipykernel_63205/2142501975.py:1: FutureWarning: The default value of regex will change from True to False in a future version.\n",
      "  df_cards_w_lic['tradelicense'] = df_cards_w_lic['tradelicense'].str.replace(\"\\.0\", \"\")\n"
     ]
    }
   ],
   "source": [
    "df_cards_w_lic['tradelicense'] = df_cards_w_lic['tradelicense'].str.replace(\"\\.0\", \"\")"
   ],
   "metadata": {
    "collapsed": false,
    "pycharm": {
     "name": "#%%\n"
    }
   }
  },
  {
   "cell_type": "code",
   "execution_count": 22,
   "outputs": [
    {
     "data": {
      "text/plain": "                      id  source_id          stable_id  \\\n0      70000001006418103          1  70000001006418103   \n1      70000001034259381          1  70000001034259381   \n2      70000001040970652          1  70000001040970652   \n3      70000001041165521          1  70000001041165521   \n4      70000001033291710          1  70000001033291710   \n...                  ...        ...                ...   \n69639  70000001034257916          1  70000001034257916   \n69640  70000001038139044          1  70000001038139044   \n69641  70000001036144859          1  70000001036144859   \n69642  70000001033378867          1  70000001033378867   \n69643  70000001047146617          1  70000001047146617   \n\n                                                    name            firm_id  \\\n0                                    Jubily, supermarket  70000001006418104   \n1                          PMG Overseas Trading, company  70000001034259380   \n2             Wardat Al Rabea Ladies Gowns Tailoring LLC  70000001040970651   \n3                              Al Themar, driving school  70000001041165520   \n4                                   Safeera, supermarket  70000001040947562   \n...                                                  ...                ...   \n69639                           Suhani International FZC  70000001034257915   \n69640                      Shabab Al Khatam, gents salon  70000001038139043   \n69641                Abdullatif Bastaki Meat Trading LLC  70000001036144858   \n69642  Khalid Saif Electrical & Plumbing Works, servi...  70000001033378866   \n69643  Al Remal Al Fadhia Plastic Products, trading c...  70000001047146616   \n\n                                               firm_name  branch_id  \\\n0                                    Jubily, supermarket         99   \n1                          PMG Overseas Trading, company         99   \n2             Wardat Al Rabea Ladies Gowns Tailoring LLC         99   \n3                              Al Themar, driving school         99   \n4                                   Safeera, supermarket         99   \n...                                                  ...        ...   \n69639                           Suhani International FZC         99   \n69640                      Shabab Al Khatam, gents salon         99   \n69641                Abdullatif Bastaki Meat Trading LLC         99   \n69642  Khalid Saif Electrical & Plumbing Works, servi...         99   \n69643  Al Remal Al Fadhia Plastic Products, trading c...         99   \n\n      tradelicense     phone  \n0           590561   3401477  \n1            24047 561961331  \n2            79043 555684918  \n3            50862 506971326  \n4              697   7667275  \n...            ...       ...  \n69639        22407 559398326  \n69640   CN-1019937 504449440  \n69641       627392   3316961  \n69642         7227 508669266  \n69643       513027 504563790  \n\n[69644 rows x 9 columns]",
      "text/html": "<div>\n<style scoped>\n    .dataframe tbody tr th:only-of-type {\n        vertical-align: middle;\n    }\n\n    .dataframe tbody tr th {\n        vertical-align: top;\n    }\n\n    .dataframe thead th {\n        text-align: right;\n    }\n</style>\n<table border=\"1\" class=\"dataframe\">\n  <thead>\n    <tr style=\"text-align: right;\">\n      <th></th>\n      <th>id</th>\n      <th>source_id</th>\n      <th>stable_id</th>\n      <th>name</th>\n      <th>firm_id</th>\n      <th>firm_name</th>\n      <th>branch_id</th>\n      <th>tradelicense</th>\n      <th>phone</th>\n    </tr>\n  </thead>\n  <tbody>\n    <tr>\n      <th>0</th>\n      <td>70000001006418103</td>\n      <td>1</td>\n      <td>70000001006418103</td>\n      <td>Jubily, supermarket</td>\n      <td>70000001006418104</td>\n      <td>Jubily, supermarket</td>\n      <td>99</td>\n      <td>590561</td>\n      <td>3401477</td>\n    </tr>\n    <tr>\n      <th>1</th>\n      <td>70000001034259381</td>\n      <td>1</td>\n      <td>70000001034259381</td>\n      <td>PMG Overseas Trading, company</td>\n      <td>70000001034259380</td>\n      <td>PMG Overseas Trading, company</td>\n      <td>99</td>\n      <td>24047</td>\n      <td>561961331</td>\n    </tr>\n    <tr>\n      <th>2</th>\n      <td>70000001040970652</td>\n      <td>1</td>\n      <td>70000001040970652</td>\n      <td>Wardat Al Rabea Ladies Gowns Tailoring LLC</td>\n      <td>70000001040970651</td>\n      <td>Wardat Al Rabea Ladies Gowns Tailoring LLC</td>\n      <td>99</td>\n      <td>79043</td>\n      <td>555684918</td>\n    </tr>\n    <tr>\n      <th>3</th>\n      <td>70000001041165521</td>\n      <td>1</td>\n      <td>70000001041165521</td>\n      <td>Al Themar, driving school</td>\n      <td>70000001041165520</td>\n      <td>Al Themar, driving school</td>\n      <td>99</td>\n      <td>50862</td>\n      <td>506971326</td>\n    </tr>\n    <tr>\n      <th>4</th>\n      <td>70000001033291710</td>\n      <td>1</td>\n      <td>70000001033291710</td>\n      <td>Safeera, supermarket</td>\n      <td>70000001040947562</td>\n      <td>Safeera, supermarket</td>\n      <td>99</td>\n      <td>697</td>\n      <td>7667275</td>\n    </tr>\n    <tr>\n      <th>...</th>\n      <td>...</td>\n      <td>...</td>\n      <td>...</td>\n      <td>...</td>\n      <td>...</td>\n      <td>...</td>\n      <td>...</td>\n      <td>...</td>\n      <td>...</td>\n    </tr>\n    <tr>\n      <th>69639</th>\n      <td>70000001034257916</td>\n      <td>1</td>\n      <td>70000001034257916</td>\n      <td>Suhani International FZC</td>\n      <td>70000001034257915</td>\n      <td>Suhani International FZC</td>\n      <td>99</td>\n      <td>22407</td>\n      <td>559398326</td>\n    </tr>\n    <tr>\n      <th>69640</th>\n      <td>70000001038139044</td>\n      <td>1</td>\n      <td>70000001038139044</td>\n      <td>Shabab Al Khatam, gents salon</td>\n      <td>70000001038139043</td>\n      <td>Shabab Al Khatam, gents salon</td>\n      <td>99</td>\n      <td>CN-1019937</td>\n      <td>504449440</td>\n    </tr>\n    <tr>\n      <th>69641</th>\n      <td>70000001036144859</td>\n      <td>1</td>\n      <td>70000001036144859</td>\n      <td>Abdullatif Bastaki Meat Trading LLC</td>\n      <td>70000001036144858</td>\n      <td>Abdullatif Bastaki Meat Trading LLC</td>\n      <td>99</td>\n      <td>627392</td>\n      <td>3316961</td>\n    </tr>\n    <tr>\n      <th>69642</th>\n      <td>70000001033378867</td>\n      <td>1</td>\n      <td>70000001033378867</td>\n      <td>Khalid Saif Electrical &amp; Plumbing Works, servi...</td>\n      <td>70000001033378866</td>\n      <td>Khalid Saif Electrical &amp; Plumbing Works, servi...</td>\n      <td>99</td>\n      <td>7227</td>\n      <td>508669266</td>\n    </tr>\n    <tr>\n      <th>69643</th>\n      <td>70000001047146617</td>\n      <td>1</td>\n      <td>70000001047146617</td>\n      <td>Al Remal Al Fadhia Plastic Products, trading c...</td>\n      <td>70000001047146616</td>\n      <td>Al Remal Al Fadhia Plastic Products, trading c...</td>\n      <td>99</td>\n      <td>513027</td>\n      <td>504563790</td>\n    </tr>\n  </tbody>\n</table>\n<p>69644 rows × 9 columns</p>\n</div>"
     },
     "execution_count": 22,
     "metadata": {},
     "output_type": "execute_result"
    }
   ],
   "source": [
    "df_cards_w_lic"
   ],
   "metadata": {
    "collapsed": false,
    "pycharm": {
     "name": "#%%\n"
    }
   }
  },
  {
   "cell_type": "code",
   "execution_count": 30,
   "outputs": [],
   "source": [
    "df_cards_w_lic['tradelicense'] = df_cards_w_lic['tradelicense'].astype(str)\n",
    "df_lic_master['license_number'] = df_lic_master['license_number'].astype(str)"
   ],
   "metadata": {
    "collapsed": false,
    "pycharm": {
     "name": "#%%\n"
    }
   }
  },
  {
   "cell_type": "code",
   "execution_count": 31,
   "outputs": [],
   "source": [
    "df_crdsWLic_mergedWLicMaster = df_cards_w_lic.merge(df_lic_master.drop_duplicates(), left_on=['tradelicense'], right_on=['license_number'], how='left', indicator='Ind1')"
   ],
   "metadata": {
    "collapsed": false,
    "pycharm": {
     "name": "#%%\n"
    }
   }
  },
  {
   "cell_type": "code",
   "execution_count": 32,
   "outputs": [
    {
     "data": {
      "text/plain": "                      id  source_id          stable_id  \\\n0      70000001006418103          1  70000001006418103   \n7      70000001036144900          1  70000001036144900   \n11     70000001018159070          1  70000001018159070   \n14     70000001006503713          1  70000001006503713   \n15     70000001042747489          1  70000001042747489   \n...                  ...        ...                ...   \n69628  70000001034278587          1  70000001034278587   \n69631  70000001056095162          1  70000001056095162   \n69636  70000001006561541          1  70000001006561541   \n69641  70000001036144859          1  70000001036144859   \n69643  70000001047146617          1  70000001047146617   \n\n                                                    name            firm_id  \\\n0                                    Jubily, supermarket  70000001006418104   \n7                Morshed & Biplob Technical Services LLC  70000001036144899   \n11                                Saif Bukhatra, grocery  70000001018159069   \n14                                   Jubily, supermarket  70000001006418104   \n15             Ghazal Al Madina Clothes Washing, laundry  70000001042747488   \n...                                                  ...                ...   \n69628                    Safe Line Group Enterprises LLC  70000001034278586   \n69631                        Wlayem Kitchen & Restaurant  70000001056095161   \n69636                                 Al Badran, grocery  70000001006561542   \n69641                Abdullatif Bastaki Meat Trading LLC  70000001036144858   \n69643  Al Remal Al Fadhia Plastic Products, trading c...  70000001047146616   \n\n                                               firm_name  branch_id  \\\n0                                    Jubily, supermarket         99   \n7                Morshed & Biplob Technical Services LLC         99   \n11                                Saif Bukhatra, grocery         99   \n14                                   Jubily, supermarket         99   \n15             Ghazal Al Madina Clothes Washing, laundry         99   \n...                                                  ...        ...   \n69628                    Safe Line Group Enterprises LLC         99   \n69631                        Wlayem Kitchen & Restaurant         99   \n69636                                 Al Badran, grocery         99   \n69641                Abdullatif Bastaki Meat Trading LLC         99   \n69643  Al Remal Al Fadhia Plastic Products, trading c...         99   \n\n      tradelicense     phone license_number  issue_date expiry_date  \\\n0           590561   3401477         590561  24/01/2007  23/01/2022   \n7           827262 562762070         827262  24/02/2019  23/02/2022   \n11          231423   2640562         231423  15/07/1993  14/07/2022   \n14          667754   3804663         667754  25/03/2012  24/03/2022   \n15          101358 563516030         101358  11/05/1982  10/05/1988   \n...            ...       ...            ...         ...         ...   \n69628       564848   3714444         564848  12/01/2005  11/01/2022   \n69631       108464 581224400         108464  17/10/1977  23/04/1989   \n69636       234641   2685408         234641  07/06/1994  06/06/2022   \n69641       627392   3316961         627392  22/07/2009  21/07/2022   \n69643       513027 504563790         513027  06/07/1999  05/07/2000   \n\n      cancel_date license_status_desc_en license_category_desc_en  Ind1  \n0             NaN                 Active               Commercial  both  \n7             NaN                 Active               Commercial  both  \n11            NaN                 Active               Commercial  both  \n14            NaN                 Active               Commercial  both  \n15     29/10/1988              Cancelled             Professional  both  \n...           ...                    ...                      ...   ...  \n69628         NaN                 Active               Commercial  both  \n69631  23/12/1989              Cancelled             Professional  both  \n69636         NaN                 Active               Commercial  both  \n69641         NaN                 Active               Commercial  both  \n69643  19/10/2006              Cancelled             Professional  both  \n\n[34838 rows x 16 columns]",
      "text/html": "<div>\n<style scoped>\n    .dataframe tbody tr th:only-of-type {\n        vertical-align: middle;\n    }\n\n    .dataframe tbody tr th {\n        vertical-align: top;\n    }\n\n    .dataframe thead th {\n        text-align: right;\n    }\n</style>\n<table border=\"1\" class=\"dataframe\">\n  <thead>\n    <tr style=\"text-align: right;\">\n      <th></th>\n      <th>id</th>\n      <th>source_id</th>\n      <th>stable_id</th>\n      <th>name</th>\n      <th>firm_id</th>\n      <th>firm_name</th>\n      <th>branch_id</th>\n      <th>tradelicense</th>\n      <th>phone</th>\n      <th>license_number</th>\n      <th>issue_date</th>\n      <th>expiry_date</th>\n      <th>cancel_date</th>\n      <th>license_status_desc_en</th>\n      <th>license_category_desc_en</th>\n      <th>Ind1</th>\n    </tr>\n  </thead>\n  <tbody>\n    <tr>\n      <th>0</th>\n      <td>70000001006418103</td>\n      <td>1</td>\n      <td>70000001006418103</td>\n      <td>Jubily, supermarket</td>\n      <td>70000001006418104</td>\n      <td>Jubily, supermarket</td>\n      <td>99</td>\n      <td>590561</td>\n      <td>3401477</td>\n      <td>590561</td>\n      <td>24/01/2007</td>\n      <td>23/01/2022</td>\n      <td>NaN</td>\n      <td>Active</td>\n      <td>Commercial</td>\n      <td>both</td>\n    </tr>\n    <tr>\n      <th>7</th>\n      <td>70000001036144900</td>\n      <td>1</td>\n      <td>70000001036144900</td>\n      <td>Morshed &amp; Biplob Technical Services LLC</td>\n      <td>70000001036144899</td>\n      <td>Morshed &amp; Biplob Technical Services LLC</td>\n      <td>99</td>\n      <td>827262</td>\n      <td>562762070</td>\n      <td>827262</td>\n      <td>24/02/2019</td>\n      <td>23/02/2022</td>\n      <td>NaN</td>\n      <td>Active</td>\n      <td>Commercial</td>\n      <td>both</td>\n    </tr>\n    <tr>\n      <th>11</th>\n      <td>70000001018159070</td>\n      <td>1</td>\n      <td>70000001018159070</td>\n      <td>Saif Bukhatra, grocery</td>\n      <td>70000001018159069</td>\n      <td>Saif Bukhatra, grocery</td>\n      <td>99</td>\n      <td>231423</td>\n      <td>2640562</td>\n      <td>231423</td>\n      <td>15/07/1993</td>\n      <td>14/07/2022</td>\n      <td>NaN</td>\n      <td>Active</td>\n      <td>Commercial</td>\n      <td>both</td>\n    </tr>\n    <tr>\n      <th>14</th>\n      <td>70000001006503713</td>\n      <td>1</td>\n      <td>70000001006503713</td>\n      <td>Jubily, supermarket</td>\n      <td>70000001006418104</td>\n      <td>Jubily, supermarket</td>\n      <td>99</td>\n      <td>667754</td>\n      <td>3804663</td>\n      <td>667754</td>\n      <td>25/03/2012</td>\n      <td>24/03/2022</td>\n      <td>NaN</td>\n      <td>Active</td>\n      <td>Commercial</td>\n      <td>both</td>\n    </tr>\n    <tr>\n      <th>15</th>\n      <td>70000001042747489</td>\n      <td>1</td>\n      <td>70000001042747489</td>\n      <td>Ghazal Al Madina Clothes Washing, laundry</td>\n      <td>70000001042747488</td>\n      <td>Ghazal Al Madina Clothes Washing, laundry</td>\n      <td>99</td>\n      <td>101358</td>\n      <td>563516030</td>\n      <td>101358</td>\n      <td>11/05/1982</td>\n      <td>10/05/1988</td>\n      <td>29/10/1988</td>\n      <td>Cancelled</td>\n      <td>Professional</td>\n      <td>both</td>\n    </tr>\n    <tr>\n      <th>...</th>\n      <td>...</td>\n      <td>...</td>\n      <td>...</td>\n      <td>...</td>\n      <td>...</td>\n      <td>...</td>\n      <td>...</td>\n      <td>...</td>\n      <td>...</td>\n      <td>...</td>\n      <td>...</td>\n      <td>...</td>\n      <td>...</td>\n      <td>...</td>\n      <td>...</td>\n      <td>...</td>\n    </tr>\n    <tr>\n      <th>69628</th>\n      <td>70000001034278587</td>\n      <td>1</td>\n      <td>70000001034278587</td>\n      <td>Safe Line Group Enterprises LLC</td>\n      <td>70000001034278586</td>\n      <td>Safe Line Group Enterprises LLC</td>\n      <td>99</td>\n      <td>564848</td>\n      <td>3714444</td>\n      <td>564848</td>\n      <td>12/01/2005</td>\n      <td>11/01/2022</td>\n      <td>NaN</td>\n      <td>Active</td>\n      <td>Commercial</td>\n      <td>both</td>\n    </tr>\n    <tr>\n      <th>69631</th>\n      <td>70000001056095162</td>\n      <td>1</td>\n      <td>70000001056095162</td>\n      <td>Wlayem Kitchen &amp; Restaurant</td>\n      <td>70000001056095161</td>\n      <td>Wlayem Kitchen &amp; Restaurant</td>\n      <td>99</td>\n      <td>108464</td>\n      <td>581224400</td>\n      <td>108464</td>\n      <td>17/10/1977</td>\n      <td>23/04/1989</td>\n      <td>23/12/1989</td>\n      <td>Cancelled</td>\n      <td>Professional</td>\n      <td>both</td>\n    </tr>\n    <tr>\n      <th>69636</th>\n      <td>70000001006561541</td>\n      <td>1</td>\n      <td>70000001006561541</td>\n      <td>Al Badran, grocery</td>\n      <td>70000001006561542</td>\n      <td>Al Badran, grocery</td>\n      <td>99</td>\n      <td>234641</td>\n      <td>2685408</td>\n      <td>234641</td>\n      <td>07/06/1994</td>\n      <td>06/06/2022</td>\n      <td>NaN</td>\n      <td>Active</td>\n      <td>Commercial</td>\n      <td>both</td>\n    </tr>\n    <tr>\n      <th>69641</th>\n      <td>70000001036144859</td>\n      <td>1</td>\n      <td>70000001036144859</td>\n      <td>Abdullatif Bastaki Meat Trading LLC</td>\n      <td>70000001036144858</td>\n      <td>Abdullatif Bastaki Meat Trading LLC</td>\n      <td>99</td>\n      <td>627392</td>\n      <td>3316961</td>\n      <td>627392</td>\n      <td>22/07/2009</td>\n      <td>21/07/2022</td>\n      <td>NaN</td>\n      <td>Active</td>\n      <td>Commercial</td>\n      <td>both</td>\n    </tr>\n    <tr>\n      <th>69643</th>\n      <td>70000001047146617</td>\n      <td>1</td>\n      <td>70000001047146617</td>\n      <td>Al Remal Al Fadhia Plastic Products, trading c...</td>\n      <td>70000001047146616</td>\n      <td>Al Remal Al Fadhia Plastic Products, trading c...</td>\n      <td>99</td>\n      <td>513027</td>\n      <td>504563790</td>\n      <td>513027</td>\n      <td>06/07/1999</td>\n      <td>05/07/2000</td>\n      <td>19/10/2006</td>\n      <td>Cancelled</td>\n      <td>Professional</td>\n      <td>both</td>\n    </tr>\n  </tbody>\n</table>\n<p>34838 rows × 16 columns</p>\n</div>"
     },
     "execution_count": 32,
     "metadata": {},
     "output_type": "execute_result"
    }
   ],
   "source": [
    "df_crdsWLic_mergedWLicMaster[df_crdsWLic_mergedWLicMaster['Ind1']=='both']"
   ],
   "metadata": {
    "collapsed": false,
    "pycharm": {
     "name": "#%%\n"
    }
   }
  },
  {
   "cell_type": "code",
   "execution_count": 34,
   "outputs": [],
   "source": [
    "df_crdsWLic_mergedWLicMaster.head(1000).to_csv('data/dubai_licesnses_sample_1000.csv', index=False, sep=';')"
   ],
   "metadata": {
    "collapsed": false,
    "pycharm": {
     "name": "#%%\n"
    }
   }
  },
  {
   "cell_type": "code",
   "execution_count": null,
   "outputs": [],
   "source": [],
   "metadata": {
    "collapsed": false,
    "pycharm": {
     "name": "#%%\n"
    }
   }
  }
 ],
 "metadata": {
  "kernelspec": {
   "display_name": "Python 3",
   "language": "python",
   "name": "python3"
  },
  "language_info": {
   "codemirror_mode": {
    "name": "ipython",
    "version": 2
   },
   "file_extension": ".py",
   "mimetype": "text/x-python",
   "name": "python",
   "nbconvert_exporter": "python",
   "pygments_lexer": "ipython2",
   "version": "2.7.6"
  }
 },
 "nbformat": 4,
 "nbformat_minor": 0
}