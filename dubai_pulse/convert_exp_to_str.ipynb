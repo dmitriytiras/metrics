{
 "cells": [
  {
   "cell_type": "code",
   "execution_count": 23,
   "metadata": {
    "collapsed": true
   },
   "outputs": [],
   "source": [
    "import pandas as pd"
   ]
  },
  {
   "cell_type": "code",
   "execution_count": 24,
   "outputs": [],
   "source": [
    "pd.set_option('display.max_columns', None)\n",
    "pd.set_option('display.max_rows',1000)\n",
    "pd.set_option('display.float_format', lambda x: '%.0f' % x)"
   ],
   "metadata": {
    "collapsed": false,
    "pycharm": {
     "name": "#%%\n"
    }
   }
  },
  {
   "cell_type": "code",
   "execution_count": 25,
   "outputs": [],
   "source": [
    "# файл csv с id формате  7.00000010381415e+16\n",
    "# df = pd.read_csv('data/uae_trade_license.csv')\n",
    "df = pd.read_csv('data/dubai_trade_lic.csv')"
   ],
   "metadata": {
    "collapsed": false,
    "pycharm": {
     "name": "#%%\n"
    }
   }
  },
  {
   "cell_type": "code",
   "execution_count": 26,
   "outputs": [
    {
     "data": {
      "text/plain": "                 id  source_id         stable_id  \\\n0 70000001038141504          1 70000001038141504   \n1 70000001038139640          1 70000001038139640   \n2 70000001006487872          1 70000001006487872   \n3 70000001032892096          1 70000001032892096   \n4 70000001042542336          1 70000001042542336   \n5 70000001038121424          1 70000001038121424   \n6 70000001041164864          1 70000001041164864   \n7 70000001032080688          1 70000001032080688   \n8 70000001032882688          1 70000001032882688   \n9 70000001046931776          1 70000001046931776   \n\n                                           name           firm_id  \\\n0                  Total Care Mobile Phones LLC 70000001038141504   \n1                     Smart Tax Consultancy LLC 70000001038139640   \n2                                Vital Sign LLC 70000001006487872   \n3  Mohammed Kahteeri Gas District Establishment 70000001032892096   \n4                   Marina, cafe and restaurant 70000001042542336   \n5                 Al Fares Taekwondo Center LLC 70000001038121416   \n6                  Punjabi Dhaba Restaurant LLC 70000001041164864   \n7                          Shafiq Interiors LLC 70000001032080688   \n8             Long Way Fresh Meat Trading, shop 70000001032882688   \n9         Couplers General Contracting, company 70000001046931776   \n\n                                      firm_name  branch_id tradelicense  \\\n0                  Total Care Mobile Phones LLC         99   CN-1795648   \n1                     Smart Tax Consultancy LLC         99   CN-2433306   \n2                                Vital Sign LLC         99     650350.0   \n3  Mohammed Kahteeri Gas District Establishment         99   CN-1049336   \n4                   Marina, cafe and restaurant         99       5284.0   \n5                 Al Fares Taekwondo Center LLC         99   CN-2164712   \n6                  Punjabi Dhaba Restaurant LLC         99      42258.0   \n7                          Shafiq Interiors LLC         99      69385.0   \n8             Long Way Fresh Meat Trading, shop         99   CN-1185183   \n9         Couplers General Contracting, company         99   CN-1781941   \n\n      phone  \n0 557130040  \n1 507339118  \n2   2383278  \n3       NaN  \n4   2441911  \n5   5544647  \n6 558991486  \n7 502121164  \n8 544652736  \n9 557223989  ",
      "text/html": "<div>\n<style scoped>\n    .dataframe tbody tr th:only-of-type {\n        vertical-align: middle;\n    }\n\n    .dataframe tbody tr th {\n        vertical-align: top;\n    }\n\n    .dataframe thead th {\n        text-align: right;\n    }\n</style>\n<table border=\"1\" class=\"dataframe\">\n  <thead>\n    <tr style=\"text-align: right;\">\n      <th></th>\n      <th>id</th>\n      <th>source_id</th>\n      <th>stable_id</th>\n      <th>name</th>\n      <th>firm_id</th>\n      <th>firm_name</th>\n      <th>branch_id</th>\n      <th>tradelicense</th>\n      <th>phone</th>\n    </tr>\n  </thead>\n  <tbody>\n    <tr>\n      <th>0</th>\n      <td>70000001038141504</td>\n      <td>1</td>\n      <td>70000001038141504</td>\n      <td>Total Care Mobile Phones LLC</td>\n      <td>70000001038141504</td>\n      <td>Total Care Mobile Phones LLC</td>\n      <td>99</td>\n      <td>CN-1795648</td>\n      <td>557130040</td>\n    </tr>\n    <tr>\n      <th>1</th>\n      <td>70000001038139640</td>\n      <td>1</td>\n      <td>70000001038139640</td>\n      <td>Smart Tax Consultancy LLC</td>\n      <td>70000001038139640</td>\n      <td>Smart Tax Consultancy LLC</td>\n      <td>99</td>\n      <td>CN-2433306</td>\n      <td>507339118</td>\n    </tr>\n    <tr>\n      <th>2</th>\n      <td>70000001006487872</td>\n      <td>1</td>\n      <td>70000001006487872</td>\n      <td>Vital Sign LLC</td>\n      <td>70000001006487872</td>\n      <td>Vital Sign LLC</td>\n      <td>99</td>\n      <td>650350.0</td>\n      <td>2383278</td>\n    </tr>\n    <tr>\n      <th>3</th>\n      <td>70000001032892096</td>\n      <td>1</td>\n      <td>70000001032892096</td>\n      <td>Mohammed Kahteeri Gas District Establishment</td>\n      <td>70000001032892096</td>\n      <td>Mohammed Kahteeri Gas District Establishment</td>\n      <td>99</td>\n      <td>CN-1049336</td>\n      <td>NaN</td>\n    </tr>\n    <tr>\n      <th>4</th>\n      <td>70000001042542336</td>\n      <td>1</td>\n      <td>70000001042542336</td>\n      <td>Marina, cafe and restaurant</td>\n      <td>70000001042542336</td>\n      <td>Marina, cafe and restaurant</td>\n      <td>99</td>\n      <td>5284.0</td>\n      <td>2441911</td>\n    </tr>\n    <tr>\n      <th>5</th>\n      <td>70000001038121424</td>\n      <td>1</td>\n      <td>70000001038121424</td>\n      <td>Al Fares Taekwondo Center LLC</td>\n      <td>70000001038121416</td>\n      <td>Al Fares Taekwondo Center LLC</td>\n      <td>99</td>\n      <td>CN-2164712</td>\n      <td>5544647</td>\n    </tr>\n    <tr>\n      <th>6</th>\n      <td>70000001041164864</td>\n      <td>1</td>\n      <td>70000001041164864</td>\n      <td>Punjabi Dhaba Restaurant LLC</td>\n      <td>70000001041164864</td>\n      <td>Punjabi Dhaba Restaurant LLC</td>\n      <td>99</td>\n      <td>42258.0</td>\n      <td>558991486</td>\n    </tr>\n    <tr>\n      <th>7</th>\n      <td>70000001032080688</td>\n      <td>1</td>\n      <td>70000001032080688</td>\n      <td>Shafiq Interiors LLC</td>\n      <td>70000001032080688</td>\n      <td>Shafiq Interiors LLC</td>\n      <td>99</td>\n      <td>69385.0</td>\n      <td>502121164</td>\n    </tr>\n    <tr>\n      <th>8</th>\n      <td>70000001032882688</td>\n      <td>1</td>\n      <td>70000001032882688</td>\n      <td>Long Way Fresh Meat Trading, shop</td>\n      <td>70000001032882688</td>\n      <td>Long Way Fresh Meat Trading, shop</td>\n      <td>99</td>\n      <td>CN-1185183</td>\n      <td>544652736</td>\n    </tr>\n    <tr>\n      <th>9</th>\n      <td>70000001046931776</td>\n      <td>1</td>\n      <td>70000001046931776</td>\n      <td>Couplers General Contracting, company</td>\n      <td>70000001046931776</td>\n      <td>Couplers General Contracting, company</td>\n      <td>99</td>\n      <td>CN-1781941</td>\n      <td>557223989</td>\n    </tr>\n  </tbody>\n</table>\n</div>"
     },
     "execution_count": 26,
     "metadata": {},
     "output_type": "execute_result"
    }
   ],
   "source": [
    "df.head(10)"
   ],
   "metadata": {
    "collapsed": false,
    "pycharm": {
     "name": "#%%\n"
    }
   }
  },
  {
   "cell_type": "code",
   "execution_count": 56,
   "outputs": [],
   "source": [
    " # файл csv с id формате  70000001038141504\n",
    "df.to_csv('dat/uae_trade_license_3.csv',sep=',' , float_format='%.0f', index=False)"
   ],
   "metadata": {
    "collapsed": false,
    "pycharm": {
     "name": "#%%\n"
    }
   }
  },
  {
   "cell_type": "code",
   "execution_count": 61,
   "outputs": [
    {
     "data": {
      "text/plain": "                     id  source_id         stable_id  \\\n0     70000001038141504          1 70000001038141504   \n1     70000001038139640          1 70000001038139640   \n2     70000001006487872          1 70000001006487872   \n3     70000001031625136          1 70000001031625136   \n4     70000001032892096          1 70000001032892096   \n...                 ...        ...               ...   \n69810 70000001039928304          1 70000001039928304   \n69811 70000001034214128          1 70000001034214128   \n69812 70000001028250992          1 70000001028250992   \n69813 70000001032648656          1 70000001032648656   \n69814 70000001006649704          1 70000001006649704   \n\n                                                 name           firm_id  \\\n0                        Total Care Mobile Phones LLC 70000001038141504   \n1                           Smart Tax Consultancy LLC 70000001038139640   \n2                                      Vital Sign LLC 70000001006487872   \n3      Al Shams Al Tahabiah Garments Ironing, laundry 70000001031625136   \n4        Mohammed Kahteeri Gas District Establishment 70000001032892096   \n...                                               ...               ...   \n69810                         JF, restaurant and cafe 70000001039928304   \n69811                         Layaly Adan, restaurant 70000001034214120   \n69812        Gulfscape Technical Services Company LLC 70000001028250992   \n69813                           Kanaan Decor, company 70000001032648648   \n69814                           Selex Electricals LLC 70000001006649704   \n\n                                            firm_name  branch_id tradelicense  \\\n0                        Total Care Mobile Phones LLC         99   CN-1795648   \n1                           Smart Tax Consultancy LLC         99   CN-2433306   \n2                                      Vital Sign LLC         99     650350.0   \n3      Al Shams Al Tahabiah Garments Ironing, laundry         99     749204.0   \n4        Mohammed Kahteeri Gas District Establishment         99   CN-1049336   \n...                                               ...        ...          ...   \n69810                         JF, restaurant and cafe         99   CN-2289775   \n69811                         Layaly Adan, restaurant         99        93749   \n69812        Gulfscape Technical Services Company LLC         99       746018   \n69813                           Kanaan Decor, company         99   CN-1033065   \n69814                           Selex Electricals LLC         99       554414   \n\n          phone  \n0     557130040  \n1     507339118  \n2       2383278  \n3     502039685  \n4           NaN  \n...         ...  \n69810 523005997  \n69811   2221227  \n69812   2659835  \n69813   5542867  \n69814   2678714  \n\n[69815 rows x 9 columns]",
      "text/html": "<div>\n<style scoped>\n    .dataframe tbody tr th:only-of-type {\n        vertical-align: middle;\n    }\n\n    .dataframe tbody tr th {\n        vertical-align: top;\n    }\n\n    .dataframe thead th {\n        text-align: right;\n    }\n</style>\n<table border=\"1\" class=\"dataframe\">\n  <thead>\n    <tr style=\"text-align: right;\">\n      <th></th>\n      <th>id</th>\n      <th>source_id</th>\n      <th>stable_id</th>\n      <th>name</th>\n      <th>firm_id</th>\n      <th>firm_name</th>\n      <th>branch_id</th>\n      <th>tradelicense</th>\n      <th>phone</th>\n    </tr>\n  </thead>\n  <tbody>\n    <tr>\n      <th>0</th>\n      <td>70000001038141504</td>\n      <td>1</td>\n      <td>70000001038141504</td>\n      <td>Total Care Mobile Phones LLC</td>\n      <td>70000001038141504</td>\n      <td>Total Care Mobile Phones LLC</td>\n      <td>99</td>\n      <td>CN-1795648</td>\n      <td>557130040</td>\n    </tr>\n    <tr>\n      <th>1</th>\n      <td>70000001038139640</td>\n      <td>1</td>\n      <td>70000001038139640</td>\n      <td>Smart Tax Consultancy LLC</td>\n      <td>70000001038139640</td>\n      <td>Smart Tax Consultancy LLC</td>\n      <td>99</td>\n      <td>CN-2433306</td>\n      <td>507339118</td>\n    </tr>\n    <tr>\n      <th>2</th>\n      <td>70000001006487872</td>\n      <td>1</td>\n      <td>70000001006487872</td>\n      <td>Vital Sign LLC</td>\n      <td>70000001006487872</td>\n      <td>Vital Sign LLC</td>\n      <td>99</td>\n      <td>650350.0</td>\n      <td>2383278</td>\n    </tr>\n    <tr>\n      <th>3</th>\n      <td>70000001031625136</td>\n      <td>1</td>\n      <td>70000001031625136</td>\n      <td>Al Shams Al Tahabiah Garments Ironing, laundry</td>\n      <td>70000001031625136</td>\n      <td>Al Shams Al Tahabiah Garments Ironing, laundry</td>\n      <td>99</td>\n      <td>749204.0</td>\n      <td>502039685</td>\n    </tr>\n    <tr>\n      <th>4</th>\n      <td>70000001032892096</td>\n      <td>1</td>\n      <td>70000001032892096</td>\n      <td>Mohammed Kahteeri Gas District Establishment</td>\n      <td>70000001032892096</td>\n      <td>Mohammed Kahteeri Gas District Establishment</td>\n      <td>99</td>\n      <td>CN-1049336</td>\n      <td>NaN</td>\n    </tr>\n    <tr>\n      <th>...</th>\n      <td>...</td>\n      <td>...</td>\n      <td>...</td>\n      <td>...</td>\n      <td>...</td>\n      <td>...</td>\n      <td>...</td>\n      <td>...</td>\n      <td>...</td>\n    </tr>\n    <tr>\n      <th>69810</th>\n      <td>70000001039928304</td>\n      <td>1</td>\n      <td>70000001039928304</td>\n      <td>JF, restaurant and cafe</td>\n      <td>70000001039928304</td>\n      <td>JF, restaurant and cafe</td>\n      <td>99</td>\n      <td>CN-2289775</td>\n      <td>523005997</td>\n    </tr>\n    <tr>\n      <th>69811</th>\n      <td>70000001034214128</td>\n      <td>1</td>\n      <td>70000001034214128</td>\n      <td>Layaly Adan, restaurant</td>\n      <td>70000001034214120</td>\n      <td>Layaly Adan, restaurant</td>\n      <td>99</td>\n      <td>93749</td>\n      <td>2221227</td>\n    </tr>\n    <tr>\n      <th>69812</th>\n      <td>70000001028250992</td>\n      <td>1</td>\n      <td>70000001028250992</td>\n      <td>Gulfscape Technical Services Company LLC</td>\n      <td>70000001028250992</td>\n      <td>Gulfscape Technical Services Company LLC</td>\n      <td>99</td>\n      <td>746018</td>\n      <td>2659835</td>\n    </tr>\n    <tr>\n      <th>69813</th>\n      <td>70000001032648656</td>\n      <td>1</td>\n      <td>70000001032648656</td>\n      <td>Kanaan Decor, company</td>\n      <td>70000001032648648</td>\n      <td>Kanaan Decor, company</td>\n      <td>99</td>\n      <td>CN-1033065</td>\n      <td>5542867</td>\n    </tr>\n    <tr>\n      <th>69814</th>\n      <td>70000001006649704</td>\n      <td>1</td>\n      <td>70000001006649704</td>\n      <td>Selex Electricals LLC</td>\n      <td>70000001006649704</td>\n      <td>Selex Electricals LLC</td>\n      <td>99</td>\n      <td>554414</td>\n      <td>2678714</td>\n    </tr>\n  </tbody>\n</table>\n<p>69815 rows × 9 columns</p>\n</div>"
     },
     "execution_count": 61,
     "metadata": {},
     "output_type": "execute_result"
    }
   ],
   "source": [
    "df"
   ],
   "metadata": {
    "collapsed": false,
    "pycharm": {
     "name": "#%%\n"
    }
   }
  },
  {
   "cell_type": "code",
   "execution_count": 22,
   "outputs": [
    {
     "name": "stdout",
     "output_type": "stream",
     "text": [
      "70000001038141504\n"
     ]
    }
   ],
   "source": [
    "x = 7.00000010381415e+16\n",
    "print('%.0f' % x)"
   ],
   "metadata": {
    "collapsed": false,
    "pycharm": {
     "name": "#%%\n"
    }
   }
  }
 ],
 "metadata": {
  "kernelspec": {
   "display_name": "Python 3",
   "language": "python",
   "name": "python3"
  },
  "language_info": {
   "codemirror_mode": {
    "name": "ipython",
    "version": 2
   },
   "file_extension": ".py",
   "mimetype": "text/x-python",
   "name": "python",
   "nbconvert_exporter": "python",
   "pygments_lexer": "ipython2",
   "version": "2.7.6"
  }
 },
 "nbformat": 4,
 "nbformat_minor": 0
}